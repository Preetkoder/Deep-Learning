{
 "cells": [
  {
   "cell_type": "code",
   "execution_count": 1,
   "id": "f5ae00e2",
   "metadata": {
    "scrolled": true
   },
   "outputs": [],
   "source": [
    "import numpy as np \n",
    "import cv2\n"
   ]
  },
  {
   "cell_type": "code",
   "execution_count": 2,
   "id": "167bf246",
   "metadata": {},
   "outputs": [
    {
     "name": "stdout",
     "output_type": "stream",
     "text": [
      "Requirement already satisfied: opencv-python in c:\\users\\canpa\\anaconda3\\lib\\site-packages (4.8.0.74)Note: you may need to restart the kernel to use updated packages.\n",
      "\n",
      "Requirement already satisfied: numpy>=1.21.2 in c:\\users\\canpa\\anaconda3\\lib\\site-packages (from opencv-python) (1.24.3)\n"
     ]
    }
   ],
   "source": [
    "pip install opencv-python"
   ]
  },
  {
   "cell_type": "code",
   "execution_count": 3,
   "id": "d6844c26",
   "metadata": {},
   "outputs": [],
   "source": [
    "cascade_classifier = cv2.CascadeClassifier('haarcascade_frontalface_default.xml')"
   ]
  },
  {
   "cell_type": "code",
   "execution_count": 4,
   "id": "e08d9538",
   "metadata": {},
   "outputs": [],
   "source": [
    "image = cv2.imread('image.jpg')"
   ]
  },
  {
   "cell_type": "markdown",
   "id": "4b0750c7",
   "metadata": {},
   "source": [
    "image"
   ]
  },
  {
   "cell_type": "code",
   "execution_count": 5,
   "id": "cec30a35",
   "metadata": {},
   "outputs": [],
   "source": [
    "cv2.imshow('Movie',image)\n",
    "cv2.waitKey(0)\n",
    "cv2.destroyAllWindows()"
   ]
  },
  {
   "cell_type": "code",
   "execution_count": null,
   "id": "196af309",
   "metadata": {},
   "outputs": [],
   "source": [
    "# pip install opencv-python==4.8.0.74"
   ]
  },
  {
   "cell_type": "code",
   "execution_count": 6,
   "id": "b790bcd8",
   "metadata": {},
   "outputs": [],
   "source": [
    "grey_image = cv2.cvtColor(image,cv2.COLOR_BGR2GRAY)"
   ]
  },
  {
   "cell_type": "code",
   "execution_count": 7,
   "id": "bc84a026",
   "metadata": {},
   "outputs": [],
   "source": [
    "cv2.imshow('Movie',grey_image)\n",
    "cv2.waitKey(0)\n",
    "cv2.destroyAllWindows()"
   ]
  },
  {
   "cell_type": "code",
   "execution_count": 8,
   "id": "33d3756b",
   "metadata": {},
   "outputs": [
    {
     "data": {
      "text/plain": [
       "array([[683,  51,  45,  45],\n",
       "       [375,  52,  54,  54],\n",
       "       [563,  49,  54,  54],\n",
       "       [445,  55,  53,  53],\n",
       "       [189,  62,  50,  50]])"
      ]
     },
     "execution_count": 8,
     "metadata": {},
     "output_type": "execute_result"
    }
   ],
   "source": [
    "faces = cascade_classifier.detectMultiScale(image)\n",
    "faces"
   ]
  },
  {
   "cell_type": "markdown",
   "id": "dbbb05d4",
   "metadata": {},
   "source": [
    "# drawing retangle on each face . "
   ]
  },
  {
   "cell_type": "code",
   "execution_count": 9,
   "id": "30cecb62",
   "metadata": {},
   "outputs": [],
   "source": [
    "for x,y,w,h in faces:\n",
    "    cv2.rectangle(image,(x,y),(x+w,y+h),(0,0,255),2)\n",
    "cv2.imshow('Movie',image)\n",
    "cv2.waitKey(0)\n",
    "cv2.destroyAllWindows()"
   ]
  },
  {
   "cell_type": "markdown",
   "id": "6b840f1e",
   "metadata": {},
   "source": [
    "# Detecting live face \n"
   ]
  },
  {
   "cell_type": "code",
   "execution_count": 10,
   "id": "48e57cd3",
   "metadata": {},
   "outputs": [],
   "source": [
    "capture = cv2.VideoCapture(0) # access the camera or capture device \n",
    "    "
   ]
  },
  {
   "cell_type": "code",
   "execution_count": 11,
   "id": "fb2ad318",
   "metadata": {},
   "outputs": [],
   "source": [
    "while True:\n",
    "    _,frame = capture.read() # this will read all the image from the webcam . \n",
    "    grey_image = cv2.cvtColor(frame,cv2.COLOR_BGR2GRAY)\n",
    "    faces = cascade_classifier.detectMultiScale(grey_image,1.2)\n",
    "    for x,y,w,h in faces:\n",
    "        cv2.rectangle(frame,(x,y),(x+w,y+h),(0,0,255),2)\n",
    "        \n",
    "        name = \"Pawan preet Singh\"\n",
    "        \n",
    "        # add the nasme as text on the rectangle \n",
    "        cv2.putText(frame, name, (x,y-10), cv2.FONT_HERSHEY_SIMPLEX, 0.5, (0,0,139),2)\n",
    "    cv2.imshow('Live face Dect',frame)\n",
    "    if cv2.waitKey(1)==ord('q'):\n",
    "        break\n",
    "capture.release()\n",
    "cv2.destroyAllWindows()\n",
    "    \n",
    "    "
   ]
  },
  {
   "cell_type": "code",
   "execution_count": 20,
   "id": "11c60c64",
   "metadata": {},
   "outputs": [],
   "source": [
    "capture.release()\n",
    "cv2.destroyAllWindows()"
   ]
  }
 ],
 "metadata": {
  "kernelspec": {
   "display_name": "Python 3 (ipykernel)",
   "language": "python",
   "name": "python3"
  },
  "language_info": {
   "codemirror_mode": {
    "name": "ipython",
    "version": 3
   },
   "file_extension": ".py",
   "mimetype": "text/x-python",
   "name": "python",
   "nbconvert_exporter": "python",
   "pygments_lexer": "ipython3",
   "version": "3.11.5"
  }
 },
 "nbformat": 4,
 "nbformat_minor": 5
}
